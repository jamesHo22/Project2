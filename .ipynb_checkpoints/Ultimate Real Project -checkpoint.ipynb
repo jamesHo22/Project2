{
 "cells": [
  {
   "cell_type": "markdown",
   "metadata": {},
   "source": [
    "# Modeling Heat Transfer in a Rocket Nozzle Throat\n",
    "## James Ho and Jinfay Justin Yuan"
   ]
  },
  {
   "cell_type": "code",
   "execution_count": 3,
   "metadata": {},
   "outputs": [],
   "source": [
    "# Configure Jupyter so figures appear in the notebook\n",
    "%matplotlib inline\n",
    "\n",
    "# Configure Jupyter to display the assigned value after an assignment\n",
    "%config InteractiveShell.ast_node_interactivity='last_expr_or_assign'\n",
    "\n",
    "# import functions from the modsim.py module\n",
    "from modsim import *"
   ]
  },
  {
   "cell_type": "code",
   "execution_count": 4,
   "metadata": {},
   "outputs": [],
   "source": [
    "def make_system(twg,twc,tco):\n",
    "    \"\"\"\n",
    "    A function that returns a system object with a state called init\n",
    "    The current system\n",
    "    \n",
    "    twg = Hot gas side local wall temperature\n",
    "    twc = Coolant side local wall temperature\n",
    "    tco = Temperature of Coolant Liquid (water)\n",
    "    taw = Temperature of the hot combustion gases (K)\n",
    "    hg = hot gas side heat transfer co-effficient = 2956\n",
    "    k = thermal conductivity of Al 6061, W/(m*K)\n",
    "    thickness = thickness of Al 6061 wall (m)\n",
    "    hc = coolant side heat transfer co-efficient\n",
    "    t_0 = intitial time \n",
    "    t_end = final time\n",
    "    \n",
    "    \"\"\"\n",
    "    system = System(init = State(twg = twg, twc = twc, tco = tco),\n",
    "                    taw = 2956,\n",
    "                    hg = 2187,\n",
    "                    k = 167 ,\n",
    "                    thickness = .00238125,\n",
    "                    hc = 32369,\n",
    "                    q =  4905759, \n",
    "                    t_0 = 0,\n",
    "                    t_end = 100)\n",
    "    return system"
   ]
  },
  {
   "cell_type": "code",
   "execution_count": 5,
   "metadata": {},
   "outputs": [],
   "source": [
    "def update_func(state,t,system):\n",
    "    \"\"\"Test update\"\"\"\n",
    "\n",
    "    unpack(system)\n",
    "    twg1, twc1, tco1 = state\n",
    "    \n",
    "    dtwg = -1 * ((q/hg) - taw)   \n",
    "    dtwc = -1 * (((q*thickness)/k) - twg1)\n",
    "    dtco = -1 * ((q/hc) - twc1)\n",
    "    \n",
    "    \n",
    "    twg1 -= dtwg * .01\n",
    "    twc1 += dtwc * .01 \n",
    "    tco1 += dtco * .01\n",
    "    \n",
    "    return State(twg = twg1,\n",
    "                 twc = twc1,\n",
    "                 tco = tco1)"
   ]
  },
  {
   "cell_type": "code",
   "execution_count": 6,
   "metadata": {},
   "outputs": [],
   "source": [
    "def slope_func(state, t, system):\n",
    "    \"\"\"\n",
    "    Function that calculates the current change in temperature over time given current state\n",
    "    \"\"\"\n",
    "    twg, twc, tco = state\n",
    "    twg1 = -((system.q/system.hg) - system.taw)\n",
    "    twc1 = -(((system.q*system.thickness)/system.k) - twg)\n",
    "    tco1 = -((system.q/system.hc) - twc)\n",
    "    return twg1, twc1, tco1"
   ]
  },
  {
   "cell_type": "code",
   "execution_count": 11,
   "metadata": {},
   "outputs": [],
   "source": [
    "resultsODE, details = run_ode_solver(system, slope_func)"
   ]
  },
  {
   "cell_type": "code",
   "execution_count": 12,
   "metadata": {},
   "outputs": [
    {
     "data": {
      "text/plain": [
       "<matplotlib.axes._subplots.AxesSubplot at 0x27c3c97ffd0>"
      ]
     },
     "execution_count": 12,
     "metadata": {},
     "output_type": "execute_result"
    },
    {
     "data": {
      "image/png": "[encoded data removed]",
      "text/plain": [
       "<Figure size 432x288 with 1 Axes>"
      ]
     },
     "metadata": {},
     "output_type": "display_data"
    }
   ],
   "source": [
    "resultsODE.plot()"
   ]
  },
  {
   "cell_type": "code",
   "execution_count": 13,
   "metadata": {},
   "outputs": [],
   "source": [
    "def run_simulation(system, update_func):\n",
    "    \"\"\"Runs a simulation of the system.\n",
    "        \n",
    "    system: System object\n",
    "    update_func: function that updates state\n",
    "    \n",
    "    returns: TimeFrame\n",
    "    \"\"\"\n",
    "    unpack(system)\n",
    "    \n",
    "    frame = TimeFrame(columns=init.index)\n",
    "    frame.row[t_0] = init\n",
    "    \n",
    "    for t in linrange(t_0, t_end):\n",
    "        frame.row[t+1] = update_func(frame.row[t], t, system)\n",
    "    frame.index / 100\n",
    "    return frame"
   ]
  },
  {
   "cell_type": "code",
   "execution_count": 14,
   "metadata": {},
   "outputs": [],
   "source": [
    "def plot_results(twg,twc,tco):\n",
    "\n",
    "    plot(twg, '--', label='twg')\n",
    "    plot(twc, '-', label='twc')\n",
    "    plot(tco, '-', label='tco')\n",
    "    \n",
    "    decorate(xlabel='Time',\n",
    "             ylabel='Temperature')"
   ]
  },
  {
   "cell_type": "code",
   "execution_count": 15,
   "metadata": {},
   "outputs": [
    {
     "data": {
      "text/html": [
       "<div>\n",
       "<style scoped>\n",
       "    .dataframe tbody tr th:only-of-type {\n",
       "        vertical-align: middle;\n",
       "    }\n",
       "\n",
       "    .dataframe tbody tr th {\n",
       "        vertical-align: top;\n",
       "    }\n",
       "\n",
       "    .dataframe thead th {\n",
       "        text-align: right;\n",
       "    }\n",
       "</style>\n",
       "<table border=\"1\" class=\"dataframe\">\n",
       "  <thead>\n",
       "    <tr style=\"text-align: right;\">\n",
       "      <th></th>\n",
       "      <th>values</th>\n",
       "    </tr>\n",
       "  </thead>\n",
       "  <tbody>\n",
       "    <tr>\n",
       "      <th>init</th>\n",
       "      <td>twg    0\n",
       "twc    0\n",
       "tco    0\n",
       "dtype: int64</td>\n",
       "    </tr>\n",
       "    <tr>\n",
       "      <th>taw</th>\n",
       "      <td>2956</td>\n",
       "    </tr>\n",
       "    <tr>\n",
       "      <th>hg</th>\n",
       "      <td>2187</td>\n",
       "    </tr>\n",
       "    <tr>\n",
       "      <th>k</th>\n",
       "      <td>167</td>\n",
       "    </tr>\n",
       "    <tr>\n",
       "      <th>thickness</th>\n",
       "      <td>0.00238125</td>\n",
       "    </tr>\n",
       "    <tr>\n",
       "      <th>hc</th>\n",
       "      <td>32369</td>\n",
       "    </tr>\n",
       "    <tr>\n",
       "      <th>q</th>\n",
       "      <td>4905759</td>\n",
       "    </tr>\n",
       "    <tr>\n",
       "      <th>t_0</th>\n",
       "      <td>0</td>\n",
       "    </tr>\n",
       "    <tr>\n",
       "      <th>t_end</th>\n",
       "      <td>100</td>\n",
       "    </tr>\n",
       "  </tbody>\n",
       "</table>\n",
       "</div>"
      ],
      "text/plain": [
       "init         twg    0\n",
       "twc    0\n",
       "tco    0\n",
       "dtype: int64\n",
       "taw                                             2956\n",
       "hg                                              2187\n",
       "k                                                167\n",
       "thickness                                 0.00238125\n",
       "hc                                             32369\n",
       "q                                            4905759\n",
       "t_0                                                0\n",
       "t_end                                            100\n",
       "dtype: object"
      ]
     },
     "execution_count": 15,
     "metadata": {},
     "output_type": "execute_result"
    }
   ],
   "source": [
    "system = make_system(0,0,0)\n"
   ]
  },
  {
   "cell_type": "code",
   "execution_count": 16,
   "metadata": {},
   "outputs": [
    {
     "data": {
      "image/png": "[encoded data removed]",
      "text/plain": [
       "<Figure size 432x288 with 1 Axes>"
      ]
     },
     "metadata": {},
     "output_type": "display_data"
    }
   ],
   "source": [
    "results = run_simulation(system, update_func)\n",
    "plot_results(results.twg,results.twc, results.tco)\n"
   ]
  },
  {
   "cell_type": "code",
   "execution_count": null,
   "metadata": {},
   "outputs": [],
   "source": []
  },
  {
   "cell_type": "code",
   "execution_count": null,
   "metadata": {},
   "outputs": [],
   "source": []
  },
  {
   "cell_type": "code",
   "execution_count": null,
   "metadata": {},
   "outputs": [],
   "source": []
  },
  {
   "cell_type": "code",
   "execution_count": null,
   "metadata": {},
   "outputs": [],
   "source": []
  }
 ],
 "metadata": {
  "kernelspec": {
   "display_name": "Python 3",
   "language": "python",
   "name": "python3"
  },
  "language_info": {
   "codemirror_mode": {
    "name": "ipython",
    "version": 3
   },
   "file_extension": ".py",
   "mimetype": "text/x-python",
   "name": "python",
   "nbconvert_exporter": "python",
   "pygments_lexer": "ipython3",
   "version": "3.6.6"
  }
 },
 "nbformat": 4,
 "nbformat_minor": 2
}
