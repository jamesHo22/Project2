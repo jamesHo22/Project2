{
 "cells": [
  {
   "cell_type": "markdown",
   "metadata": {},
   "source": [
    "# 1-D Heat Transfer in a Water-Cooled Rocket Nozzle\n",
    "\n",
    "## James Ho and Jinfay Justin Yuan"
   ]
  },
  {
   "cell_type": "code",
   "execution_count": 45,
   "metadata": {},
   "outputs": [],
   "source": [
    "# Configure Jupyter so figures appear in the notebook\n",
    "%matplotlib inline\n",
    "\n",
    "# Configure Jupyter to display the assigned value after an assignment\n",
    "%config InteractiveShell.ast_node_interactivity='last_expr_or_assign'\n",
    "\n",
    "# import functions from the modsim.py module\n",
    "from modsim import *\n",
    "import numpy as np"
   ]
  },
  {
   "cell_type": "markdown",
   "metadata": {},
   "source": [
    "## Modeling"
   ]
  },
  {
   "cell_type": "markdown",
   "metadata": {},
   "source": [
    "In order to determine the conditions of the engine throat wall over time, we created a system object that describes a slice of the model rocket. \n",
    "\n",
    "Using values that Justin had previously calculated for his model rocket engine, we defined the constant parameters of the rocket. \n",
    "\n",
    "To incorporate the startup of the rocket engine, we defined an array that would represent the temperature of the gas over time. Because the temperature would increase and reach a fixed value, we decided to use a sigmoid function to model our gas temperature over time. \n",
    "\n",
    "The calculations we conducted were based on the following assumptions:  \n",
    "that q, the rate of heat flow, is constant throughout the whole simulation,  \n",
    "the specific heat capacity of materials are the same even if they are one dimensional,  \n",
    "that heat flows instantly across all materials from the gas to the coolant,  \n",
    "and that the coolant has a fixed temperature (removes heat at a fixed rate)\n",
    "\n",
    "Given these assumptions and intuition, we hypothesized that the temperature from highest to lowest were gas side wall, coolant side wall, and coolant. We also hypothesized that since the net heat rate at equilibrium is constant, the temperatures would reach an equilibrium.  \n"
   ]
  },
  {
   "cell_type": "code",
   "execution_count": 46,
   "metadata": {},
   "outputs": [],
   "source": [
    "def make_system(twg, twc):\n",
    "    \"\"\"\n",
    "    A function that returns a system object with a state called init\n",
    "    The current system\n",
    "    \n",
    "    twg = Hot gas side local wall temperature\n",
    "    twc = Coolant side local wall temperature\n",
    "    tco = Temperature of Coolant Liquid (water)\n",
    "    taw = Temperature of the hot combustion gases (K)\n",
    "    hg = hot gas side heat transfer co-effficient = 2956\n",
    "    k = thermal conductivity of Al 6061, W/(m*K)\n",
    "    thickness = thickness of Al 6061 wall (m)\n",
    "    hc = coolant side heat transfer co-efficient\n",
    "    t_0 = intitial time \n",
    "    t_end = final time\n",
    "    \n",
    "    \"\"\"\n",
    "    system = System(init = State(twg = twg, taw = 3000, twc = twc, summ = 0),\n",
    "                    hg = 2187,\n",
    "                    k = 167 ,\n",
    "                    thickness = .00238125,\n",
    "                    hc = 32369,\n",
    "                    q =  4905759, \n",
    "                    t_0 = 0,\n",
    "                    t_end = 200,\n",
    "                    mass = 0.5,\n",
    "                    c_al = 900,\n",
    "                    c_water = 4180,\n",
    "                    dt = 0.01,\n",
    "                    tco = 363)\n",
    "    return system"
   ]
  },
  {
   "cell_type": "code",
   "execution_count": 47,
   "metadata": {},
   "outputs": [
    {
     "data": {
      "text/html": [
       "<div>\n",
       "<style scoped>\n",
       "    .dataframe tbody tr th:only-of-type {\n",
       "        vertical-align: middle;\n",
       "    }\n",
       "\n",
       "    .dataframe tbody tr th {\n",
       "        vertical-align: top;\n",
       "    }\n",
       "\n",
       "    .dataframe thead th {\n",
       "        text-align: right;\n",
       "    }\n",
       "</style>\n",
       "<table border=\"1\" class=\"dataframe\">\n",
       "  <thead>\n",
       "    <tr style=\"text-align: right;\">\n",
       "      <th></th>\n",
       "      <th>values</th>\n",
       "    </tr>\n",
       "  </thead>\n",
       "  <tbody>\n",
       "    <tr>\n",
       "      <th>init</th>\n",
       "      <td>twg      397\n",
       "taw     3000\n",
       "twc      397\n",
       "summ   ...</td>\n",
       "    </tr>\n",
       "    <tr>\n",
       "      <th>hg</th>\n",
       "      <td>2187</td>\n",
       "    </tr>\n",
       "    <tr>\n",
       "      <th>k</th>\n",
       "      <td>167</td>\n",
       "    </tr>\n",
       "    <tr>\n",
       "      <th>thickness</th>\n",
       "      <td>0.00238125</td>\n",
       "    </tr>\n",
       "    <tr>\n",
       "      <th>hc</th>\n",
       "      <td>32369</td>\n",
       "    </tr>\n",
       "    <tr>\n",
       "      <th>q</th>\n",
       "      <td>4905759</td>\n",
       "    </tr>\n",
       "    <tr>\n",
       "      <th>t_0</th>\n",
       "      <td>0</td>\n",
       "    </tr>\n",
       "    <tr>\n",
       "      <th>t_end</th>\n",
       "      <td>200</td>\n",
       "    </tr>\n",
       "    <tr>\n",
       "      <th>mass</th>\n",
       "      <td>0.5</td>\n",
       "    </tr>\n",
       "    <tr>\n",
       "      <th>c_al</th>\n",
       "      <td>900</td>\n",
       "    </tr>\n",
       "    <tr>\n",
       "      <th>c_water</th>\n",
       "      <td>4180</td>\n",
       "    </tr>\n",
       "    <tr>\n",
       "      <th>dt</th>\n",
       "      <td>0.01</td>\n",
       "    </tr>\n",
       "    <tr>\n",
       "      <th>tco</th>\n",
       "      <td>363</td>\n",
       "    </tr>\n",
       "  </tbody>\n",
       "</table>\n",
       "</div>"
      ],
      "text/plain": [
       "init         twg      397\n",
       "taw     3000\n",
       "twc      397\n",
       "summ   ...\n",
       "hg                                                        2187\n",
       "k                                                          167\n",
       "thickness                                           0.00238125\n",
       "hc                                                       32369\n",
       "q                                                      4905759\n",
       "t_0                                                          0\n",
       "t_end                                                      200\n",
       "mass                                                       0.5\n",
       "c_al                                                       900\n",
       "c_water                                                   4180\n",
       "dt                                                        0.01\n",
       "tco                                                        363\n",
       "dtype: object"
      ]
     },
     "execution_count": 47,
     "metadata": {},
     "output_type": "execute_result"
    }
   ],
   "source": [
    "system = make_system(397, 397)"
   ]
  },
  {
   "cell_type": "code",
   "execution_count": 48,
   "metadata": {},
   "outputs": [],
   "source": [
    "# Function of temperature with respect to time using a sigmoid function\n",
    "time = np.linspace(0, 5, 500)\n",
    "TawTemps = exp(5*time)/((1/system.init.taw)*exp(5*time)+1);"
   ]
  },
  {
   "cell_type": "markdown",
   "metadata": {},
   "source": [
    "We now define all of the functions that we need to calculate each unknown separately. This way, it would be easy to integrate later on when we run the simulation."
   ]
  },
  {
   "cell_type": "code",
   "execution_count": 49,
   "metadata": {},
   "outputs": [],
   "source": [
    "def calculate_q(Twg, TawTemp):\n",
    "    \"\"\"\n",
    "    Calculates the rate of heat transfer given the current gas temperature and gas side wall temperature\n",
    "    Twg: Gas side wall temperature (K)\n",
    "    TawTemp: The current gas temperature (K)\n",
    "    returns: q\n",
    "    \"\"\"\n",
    "    q = system.hg * (TawTemp - Twg);\n",
    "    return q"
   ]
  },
  {
   "cell_type": "code",
   "execution_count": 50,
   "metadata": {},
   "outputs": [],
   "source": [
    "def calculate_deltaT(system, q):\n",
    "    \"\"\"\n",
    "    Calculates the change in temperature of the aluminum rocket wall given the rate of heat transfer at a system object\n",
    "    system: system object containing dt\n",
    "    q: rate of heat transfer\n",
    "    returns: deltaT, the change in temperature\n",
    "    \"\"\"\n",
    "    deltaT = (q * system.dt)/(system.mass * system.c_al)\n",
    "    return deltaT"
   ]
  },
  {
   "cell_type": "code",
   "execution_count": 51,
   "metadata": {},
   "outputs": [],
   "source": [
    "def calculate_next_Twg(Twg, deltaT):\n",
    "    \"\"\"\n",
    "    Calculates the next gas side wall temperature given the change in temperature of the aluminum \n",
    "    Twg: the gas side wall temperature\n",
    "    deltaT: the change in temperature\n",
    "    returns: Twg of next iteration\n",
    "    \"\"\"\n",
    "    return abs(Twg + deltaT)\n",
    "    "
   ]
  },
  {
   "cell_type": "code",
   "execution_count": 52,
   "metadata": {},
   "outputs": [],
   "source": [
    "def calculate_twc(system, Twg, q):\n",
    "    \"\"\"\n",
    "    Calculates the coolant side wall temperature given the gas side wall temp and heat transfer rate and system\n",
    "    system: system object\n",
    "    Twg: the gas side wall temperature\n",
    "    returns: twc\n",
    "    \"\"\"\n",
    "    twc = Twg - (q * system.thickness)/system.k\n",
    "    return twc"
   ]
  },
  {
   "cell_type": "code",
   "execution_count": 53,
   "metadata": {},
   "outputs": [],
   "source": [
    "def calculate_twc1(system, q):\n",
    "    \"\"\"\n",
    "    Calculates twc1 given the temperature of the coolant and heat transfer rate\n",
    "    system: system object\n",
    "    q: heat transfer rate\n",
    "    returns: twc1\n",
    "    \"\"\"\n",
    "    twc1 = (q/system.hc) + system.tco \n",
    "    return twc1"
   ]
  },
  {
   "cell_type": "code",
   "execution_count": 54,
   "metadata": {},
   "outputs": [],
   "source": [
    "def calculate_twg1(system, twc1, q):\n",
    "    \"\"\"\n",
    "    Calculates twg1 given the temperature of the coolant and heat transfer rate\n",
    "    system: system object\n",
    "    q: heat transfer rate\n",
    "    returns: twg1\n",
    "    \"\"\"\n",
    "    twg1 = ((q * system.thickness)/system.k) + twc1\n",
    "    return twg1"
   ]
  },
  {
   "cell_type": "code",
   "execution_count": 55,
   "metadata": {},
   "outputs": [],
   "source": [
    "def calculate_tco(system, Twc, q):\n",
    "    \"\"\"\n",
    "    Calculates tco given the temperature of the coolant and heat transfer rate\n",
    "    system: system object\n",
    "    q: heat transfer rate\n",
    "    returns: tco\n",
    "    \"\"\"\n",
    "    tco = (Twc - (q/system.hc))\n",
    "    return tco"
   ]
  },
  {
   "cell_type": "markdown",
   "metadata": {},
   "source": [
    "Now we run and plot the results."
   ]
  },
  {
   "cell_type": "code",
   "execution_count": 56,
   "metadata": {},
   "outputs": [],
   "source": [
    "\"\"\"\n",
    "For loop runs the operations in the desired order and appends results to arrays\n",
    "\"\"\"\n",
    "current_twg = system.init.twg\n",
    "twgs = []\n",
    "twcs = []\n",
    "for i in range(len(TawTemps)):\n",
    "    q = calculate_q(current_twg, TawTemps[i])\n",
    "    deltaT = calculate_deltaT(system, q)\n",
    "    \n",
    "    twc1 = calculate_twc1(system, q)\n",
    "    twg1 = calculate_twg1(system, twc1, q)\n",
    "    q1 = calculate_q(twg1, TawTemps[i])\n",
    "    \n",
    "    next_Twg = calculate_next_Twg(twg1, deltaT)\n",
    "    twg1 = next_Twg\n",
    "    twcs.append(twc1)\n",
    "    twgs.append(twg1)\n",
    "   \n",
    "\n",
    "    \n",
    "# Have value Tco, use that to calulate Twc1\n",
    "    "
   ]
  },
  {
   "cell_type": "code",
   "execution_count": 57,
   "metadata": {},
   "outputs": [
    {
     "data": {
      "image/png": "[encoded data removed]",
      "text/plain": [
       "<Figure size 432x288 with 1 Axes>"
      ]
     },
     "metadata": {},
     "output_type": "display_data"
    }
   ],
   "source": [
    "\"\"\"\n",
    "Plot the arrays\n",
    "\"\"\"\n",
    "plot(range(len(twgs)), twgs, label='Gas-side Wall Temperature')\n",
    "plot(range(len(twcs)), twcs, label='Coolant-side Wall Temperature')\n",
    "plot(np.linspace(system.tco,system.tco,len(twgs)), label='Coolant Bulk Temperature')\n",
    "plot(range(len(TawTemps)), TawTemps, label='Adiabatic Wall Temperature')\n",
    "decorate(title='Temperature vs Time', xlabel='Time (ms)',\n",
    "             ylabel='Temperature (K)')"
   ]
  },
  {
   "cell_type": "markdown",
   "metadata": {},
   "source": [
    "These results agree with our hypothesis. The order of hottest to coolest is the gas-side wall, coolant-side wall, coolant bulk. We also see that the temperatures of all materials reached equilibria. "
   ]
  },
  {
   "cell_type": "code",
   "execution_count": null,
   "metadata": {},
   "outputs": [],
   "source": []
  },
  {
   "cell_type": "code",
   "execution_count": null,
   "metadata": {},
   "outputs": [],
   "source": []
  }
 ],
 "metadata": {
  "kernelspec": {
   "display_name": "Python 3",
   "language": "python",
   "name": "python3"
  },
  "language_info": {
   "codemirror_mode": {
    "name": "ipython",
    "version": 3
   },
   "file_extension": ".py",
   "mimetype": "text/x-python",
   "name": "python",
   "nbconvert_exporter": "python",
   "pygments_lexer": "ipython3",
   "version": "3.6.6"
  }
 },
 "nbformat": 4,
 "nbformat_minor": 2
}
