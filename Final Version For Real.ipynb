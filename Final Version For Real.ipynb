{
 "cells": [
  {
   "cell_type": "markdown",
   "metadata": {},
   "source": [
    "# 1-D Heat Transfer in a Water-Cooled Rocket Nozzle\n",
    "\n",
    "## James Ho and Jinfay Justin Yuan"
   ]
  },
  {
   "cell_type": "markdown",
   "metadata": {},
   "source": [
    "## What will the temperature of the rocket nozzle throat wall look like during engine startup and at steady-state conditions?\n",
    "\n",
    "During the operation of liquid-fueled rocket engines, fuels are injected, atomized, mixed, and ignited to produce hot combustion gases. The temperatures of these gases reach 3000 Kelvin or more. Because no metal can survive such high temperatures for a sustained period of time, a method of cooling is required in order to keep the metal from reaching a temperature in which it loses most of its structural properties. This is especially important at the nozzle throat (refer to figure below) because this is the section of the nozzle where heat transfer is at its maximum.  \n",
    "\n",
    "If the flow of coolant was high enough such that the coolant bulk temperature remains constant, what would the temperature distribution in the nozzle throat wall look like when exposed to the hot combustion gases?\n",
    "\n",
    "![title](rocketnozzle2.jpg)"
   ]
  },
  {
   "cell_type": "code",
   "execution_count": 3,
   "metadata": {},
   "outputs": [],
   "source": [
    "# Configure Jupyter so figures appear in the notebook\n",
    "%matplotlib inline\n",
    "\n",
    "# Configure Jupyter to display the assigned value after an assignment\n",
    "%config InteractiveShell.ast_node_interactivity='last_expr_or_assign'\n",
    "\n",
    "# import functions from the modsim.py module\n",
    "from modsim import *\n",
    "import numpy as np"
   ]
  },
  {
   "cell_type": "markdown",
   "metadata": {},
   "source": [
    "## Modeling\n"
   ]
  },
  {
   "cell_type": "markdown",
   "metadata": {},
   "source": [
    "In order to determine the conditions of the engine throat wall over time, we created a system object that describes a slice of the rocket nozzle. \n",
    "\n",
    "Using values that Justin had previously calculated for his rocket engine, we defined the constant parameters of the rocket. These previously calculated parameters are:\n",
    "taw, the adiabatic wall temperature that the combustion gases reach,\n",
    "hg, the gas-side heat transfer co-efficient,\n",
    "hc, the coolant-side heat transfer co-efficient,\n",
    "and thickness, the thickness of the nozzle wall. Taw was calculated based off CEA data. Hg was approximated using Bartz equation. Hc was approximated based off flow rate of coolant and area of coolant channel. The thickness of the wall was chosen so that it could withstand the high gas pressures within the combustion chamber and nozzle.\n",
    "\n",
    "To incorporate the startup of the rocket engine, we defined an array that would represent the temperature of the gas over time. Because the temperature would increase and reach a fixed value, we decided to use a sigmoid function to model our gas temperature over time. \n",
    "\n",
    "Using the gas temperature, we can then calculated the heat flux from the gas into the nozzle wall. In order to transfer this heat to the coolant, the heat flux from the gas into the nozzle wall should equate to the heat flux from the wall to the coolant. By setting the temperature of the coolant constant, we can work backwards to figure out the temperature of each side of the nozzle wall.\n",
    "\n",
    "The calculations we conducted were based on the following assumptions:  \n",
    "that there was no heat loss, \n",
    "heat transfer rates between materials are constant,\n",
    "that heat flows instantly across all materials from the gas to the coolant,  \n",
    "and that the coolant has a fixed temperature (removes heat at a fixed rate).\n",
    "\n",
    "Given these assumptions and intuition, we hypothesize that the temperature from highest to lowest are gas side wall, coolant side wall, and coolant. We also hypothesize that because the heat flux at equilibrium is constant, the temperatures would reach an equilibrium.  \n",
    "\n",
    "------\n",
    "\n",
    "\n",
    "Below we create a function that defines a system."
   ]
  },
  {
   "cell_type": "code",
   "execution_count": 14,
   "metadata": {},
   "outputs": [],
   "source": [
    "def make_system(twg, twc):\n",
    "    \"\"\"\n",
    "    A function that returns a system object with a state called init\n",
    "    The current system\n",
    "    \n",
    "    twg = Hot gas side local wall temperature\n",
    "    twc = Coolant side local wall temperature\n",
    "    tco = Temperature of Coolant Liquid (water)\n",
    "    taw = Temperature of the hot combustion gases (K)\n",
    "    hg = hot gas side heat transfer co-effficient = 2956\n",
    "    k = thermal conductivity of Al 6061, W/(m*K)\n",
    "    thickness = thickness of Al 6061 wall (m)\n",
    "    hc = coolant side heat transfer co-efficient\n",
    "    t_0 = intitial time \n",
    "    t_end = final time\n",
    "    \n",
    "    \"\"\"\n",
    "    system = System(init = State(twg = twg, taw = 3000, twc = twc, summ = 0),\n",
    "                    hg = 2187,\n",
    "                    k = 167 ,\n",
    "                    thickness = .00238125,\n",
    "                    hc = 32369,\n",
    "                    q =  4905759, \n",
    "                    t_0 = 0,\n",
    "                    t_end = 200,\n",
    "                    mass = 0.5,\n",
    "                    c_al = 900,\n",
    "                    c_water = 4180,\n",
    "                    dt = 0.01,\n",
    "                    tco = 350)\n",
    "    return system"
   ]
  },
  {
   "cell_type": "markdown",
   "metadata": {},
   "source": [
    "We create a system and initialize the temperature of each side of the wall as room temperature."
   ]
  },
  {
   "cell_type": "code",
   "execution_count": 15,
   "metadata": {},
   "outputs": [
    {
     "data": {
      "text/html": [
       "<div>\n",
       "<style scoped>\n",
       "    .dataframe tbody tr th:only-of-type {\n",
       "        vertical-align: middle;\n",
       "    }\n",
       "\n",
       "    .dataframe tbody tr th {\n",
       "        vertical-align: top;\n",
       "    }\n",
       "\n",
       "    .dataframe thead th {\n",
       "        text-align: right;\n",
       "    }\n",
       "</style>\n",
       "<table border=\"1\" class=\"dataframe\">\n",
       "  <thead>\n",
       "    <tr style=\"text-align: right;\">\n",
       "      <th></th>\n",
       "      <th>values</th>\n",
       "    </tr>\n",
       "  </thead>\n",
       "  <tbody>\n",
       "    <tr>\n",
       "      <th>init</th>\n",
       "      <td>twg      296\n",
       "taw     3000\n",
       "twc      296\n",
       "summ   ...</td>\n",
       "    </tr>\n",
       "    <tr>\n",
       "      <th>hg</th>\n",
       "      <td>2187</td>\n",
       "    </tr>\n",
       "    <tr>\n",
       "      <th>k</th>\n",
       "      <td>167</td>\n",
       "    </tr>\n",
       "    <tr>\n",
       "      <th>thickness</th>\n",
       "      <td>0.00238125</td>\n",
       "    </tr>\n",
       "    <tr>\n",
       "      <th>hc</th>\n",
       "      <td>32369</td>\n",
       "    </tr>\n",
       "    <tr>\n",
       "      <th>q</th>\n",
       "      <td>4905759</td>\n",
       "    </tr>\n",
       "    <tr>\n",
       "      <th>t_0</th>\n",
       "      <td>0</td>\n",
       "    </tr>\n",
       "    <tr>\n",
       "      <th>t_end</th>\n",
       "      <td>200</td>\n",
       "    </tr>\n",
       "    <tr>\n",
       "      <th>mass</th>\n",
       "      <td>0.5</td>\n",
       "    </tr>\n",
       "    <tr>\n",
       "      <th>c_al</th>\n",
       "      <td>900</td>\n",
       "    </tr>\n",
       "    <tr>\n",
       "      <th>c_water</th>\n",
       "      <td>4180</td>\n",
       "    </tr>\n",
       "    <tr>\n",
       "      <th>dt</th>\n",
       "      <td>0.01</td>\n",
       "    </tr>\n",
       "    <tr>\n",
       "      <th>tco</th>\n",
       "      <td>350</td>\n",
       "    </tr>\n",
       "  </tbody>\n",
       "</table>\n",
       "</div>"
      ],
      "text/plain": [
       "init         twg      296\n",
       "taw     3000\n",
       "twc      296\n",
       "summ   ...\n",
       "hg                                                        2187\n",
       "k                                                          167\n",
       "thickness                                           0.00238125\n",
       "hc                                                       32369\n",
       "q                                                      4905759\n",
       "t_0                                                          0\n",
       "t_end                                                      200\n",
       "mass                                                       0.5\n",
       "c_al                                                       900\n",
       "c_water                                                   4180\n",
       "dt                                                        0.01\n",
       "tco                                                        350\n",
       "dtype: object"
      ]
     },
     "execution_count": 15,
     "metadata": {},
     "output_type": "execute_result"
    }
   ],
   "source": [
    "system = make_system(296, 296)"
   ]
  },
  {
   "cell_type": "code",
   "execution_count": 6,
   "metadata": {},
   "outputs": [],
   "source": [
    "# Function of temperature with respect to time using a sigmoid function\n",
    "time = np.linspace(0, 5, 500)\n",
    "TawTemps = exp(5*time)/((1/system.init.taw)*exp(5*time)+1);"
   ]
  },
  {
   "cell_type": "markdown",
   "metadata": {},
   "source": [
    "We now define all of the functions that we need to calculate each unknown separately. This way, it would be easy to integrate later on when we run the simulation."
   ]
  },
  {
   "cell_type": "code",
   "execution_count": 41,
   "metadata": {},
   "outputs": [],
   "source": [
    "def calculate_q(Twg, TawTemp):\n",
    "    \"\"\"\n",
    "    Calculates the rate of heat transfer given the current gas temperature and gas side wall temperature\n",
    "    Twg: Gas side wall temperature (K)\n",
    "    TawTemp: The current gas temperature (K)\n",
    "    returns: q\n",
    "    \"\"\"\n",
    "    q = system.hg * (TawTemp - Twg);\n",
    "    return q"
   ]
  },
  {
   "cell_type": "code",
   "execution_count": 42,
   "metadata": {},
   "outputs": [],
   "source": [
    "def calculate_twc(system, q):\n",
    "    \"\"\"\n",
    "    Calculates twc given the temperature of the coolant and heat transfer rate\n",
    "    system: system object\n",
    "    q: heat transfer rate\n",
    "    returns: twc\n",
    "    \"\"\"\n",
    "    twc1 = (q/system.hc) + system.tco \n",
    "    return twc1"
   ]
  },
  {
   "cell_type": "code",
   "execution_count": 43,
   "metadata": {},
   "outputs": [],
   "source": [
    "def calculate_twg(system, twc, q):\n",
    "    \"\"\"\n",
    "    Calculates twg1 given the temperature of the coolant and heat transfer rate\n",
    "    system: system object\n",
    "    q: heat transfer rate\n",
    "    returns: twg\n",
    "    \"\"\"\n",
    "    twg = ((q * system.thickness)/system.k) + twc\n",
    "    return twg"
   ]
  },
  {
   "cell_type": "markdown",
   "metadata": {},
   "source": [
    "Now we run, plot the results, and calculate the temperature of the gas-side wall and coolant-side wall at steady state conditions."
   ]
  },
  {
   "cell_type": "code",
   "execution_count": 45,
   "metadata": {},
   "outputs": [],
   "source": [
    "\"\"\"\n",
    "For loop runs the operations in the desired order and appends results to arrays\n",
    "\"\"\"\n",
    "current_twg = system.init.twg\n",
    "twgs = []\n",
    "twcs = []\n",
    "for i in range(len(TawTemps)):\n",
    "    q = calculate_q(current_twg, TawTemps[i])\n",
    "    \n",
    "    twc = calculate_twc(system, q)\n",
    "    twg = calculate_twg(system, twc, q)\n",
    "    q1 = calculate_q(twg, TawTemps[i])\n",
    "    \n",
    "    twcs.append(twc)\n",
    "    twgs.append(twg)\n",
    "   \n",
    "   \n",
    "\n",
    "    \n",
    "# Have value Tco, use that to calulate Twc1\n",
    "    "
   ]
  },
  {
   "cell_type": "code",
   "execution_count": 47,
   "metadata": {},
   "outputs": [
    {
     "name": "stdout",
     "output_type": "stream",
     "text": [
      "617.0173888368156\n",
      "532.694792135797\n"
     ]
    },
    {
     "data": {
      "image/png": "[encoded data removed]",
      "text/plain": [
       "<Figure size 432x288 with 1 Axes>"
      ]
     },
     "metadata": {},
     "output_type": "display_data"
    }
   ],
   "source": [
    "\"\"\"\n",
    "Plot the arrays and calculate the temperatures of both the gas-side wall and coolant-side wall at steady flow conditions\n",
    "\"\"\"\n",
    "plot(range(len(twgs)), twgs, label='Gas-side Wall Temperature')\n",
    "plot(range(len(twcs)), twcs, label='Coolant-side Wall Temperature')\n",
    "plot(np.linspace(system.tco,system.tco,len(twgs)), label='Coolant Bulk Temperature')\n",
    "plot(range(len(TawTemps)), TawTemps, label='Adiabatic Wall Temperature')\n",
    "decorate(title='Temperature vs Time', xlabel='Time (ms)',\n",
    "             ylabel='Temperature (K)')\n",
    "\n",
    "print(twgs[-1])\n",
    "print(twcs[-1])"
   ]
  },
  {
   "cell_type": "markdown",
   "metadata": {},
   "source": [
    "These results agree with our hypothesis. The order of hottest to coldest is the gas-side wall, coolant-side wall, coolant bulk. During engine startup, the temperatures of each side of the wall rise with the temperature of combustion gas until it reaches equilibria. At equiibirum or steady state conditions, the temperature of the gas-side wall reaches 617 K and the temperature of the coolant-side wall reaches 532 K. This is positive news as both temperatures are below the melting point of the metal used in the design (Aluminum 6061, Melting temperature of Al. 6061 is 850 K). Furthermore, 617 K is right at the upper limit of usefulness of Alumnium 6061. Any hotter and the metal will lose most of its structural integrity. \n",
    "\n",
    "There are numerous weaknesses to this model. Hg, the heat transfer-coefficient is assumed to be constant throughout the entire simulation when in reality, it changes with the flow of the gas. Because the gas flow is different at start-up than at full operating conditions, Hg should also differ. Furthermore, Hg should also change due to outside effects like coking (carbon depositing on the gas-side wall). However, coking was beyond the scope of this model and was not included. Another weakness in this model is the fact that the coolant bulk temperature is held constant. In reality, heat energy from the hot combustion gases cause the coolant temperature to rise to a fixed value. Another weakness is the usage of a sigmoid function to model the adiabatic temperature of the wall. Based on previous calculations, we knew the temperature would reach a maximum of 3000 K. However, we do not know how fast it would take the engine to reach this point. As a result, the time scale here is inaccurate."
   ]
  }
 ],
 "metadata": {
  "kernelspec": {
   "display_name": "Python 3",
   "language": "python",
   "name": "python3"
  },
  "language_info": {
   "codemirror_mode": {
    "name": "ipython",
    "version": 3
   },
   "file_extension": ".py",
   "mimetype": "text/x-python",
   "name": "python",
   "nbconvert_exporter": "python",
   "pygments_lexer": "ipython3",
   "version": "3.6.6"
  }
 },
 "nbformat": 4,
 "nbformat_minor": 2
}
