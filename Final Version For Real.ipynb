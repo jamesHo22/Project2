{
 "cells": [
  {
   "cell_type": "markdown",
   "metadata": {},
   "source": [
    "# 1-D Heat Transfer in a Water-Cooled Rocket Nozzle\n",
    "\n",
    "## James Ho and Jinfay Justin Yuan"
   ]
  },
  {
   "cell_type": "code",
   "execution_count": 23,
   "metadata": {},
   "outputs": [],
   "source": [
    "# Configure Jupyter so figures appear in the notebook\n",
    "%matplotlib inline\n",
    "\n",
    "# Configure Jupyter to display the assigned value after an assignment\n",
    "%config InteractiveShell.ast_node_interactivity='last_expr_or_assign'\n",
    "\n",
    "# import functions from the modsim.py module\n",
    "from modsim import *\n",
    "import numpy as np"
   ]
  },
  {
   "cell_type": "code",
   "execution_count": 24,
   "metadata": {},
   "outputs": [],
   "source": [
    "def make_system(twg, twc):\n",
    "    \"\"\"\n",
    "    A function that returns a system object with a state called init\n",
    "    The current system\n",
    "    \n",
    "    twg = Hot gas side local wall temperature\n",
    "    twc = Coolant side local wall temperature\n",
    "    tco = Temperature of Coolant Liquid (water)\n",
    "    taw = Temperature of the hot combustion gases (K)\n",
    "    hg = hot gas side heat transfer co-effficient = 2956\n",
    "    k = thermal conductivity of Al 6061, W/(m*K)\n",
    "    thickness = thickness of Al 6061 wall (m)\n",
    "    hc = coolant side heat transfer co-efficient\n",
    "    t_0 = intitial time \n",
    "    t_end = final time\n",
    "    \n",
    "    \"\"\"\n",
    "    system = System(init = State(twg = twg, taw = 3000, twc = twc, summ = 0),\n",
    "                    hg = 2187,\n",
    "                    k = 167 ,\n",
    "                    thickness = .00238125,\n",
    "                    hc = 32369,\n",
    "                    q =  4905759, \n",
    "                    t_0 = 0,\n",
    "                    t_end = 200,\n",
    "                    mass = 0.5,\n",
    "                    c_al = 900,\n",
    "                    c_water = 4180,\n",
    "                    dt = 0.01,\n",
    "                    tco = 363)\n",
    "    return system"
   ]
  },
  {
   "cell_type": "code",
   "execution_count": 25,
   "metadata": {},
   "outputs": [
    {
     "data": {
      "text/html": [
       "<div>\n",
       "<style scoped>\n",
       "    .dataframe tbody tr th:only-of-type {\n",
       "        vertical-align: middle;\n",
       "    }\n",
       "\n",
       "    .dataframe tbody tr th {\n",
       "        vertical-align: top;\n",
       "    }\n",
       "\n",
       "    .dataframe thead th {\n",
       "        text-align: right;\n",
       "    }\n",
       "</style>\n",
       "<table border=\"1\" class=\"dataframe\">\n",
       "  <thead>\n",
       "    <tr style=\"text-align: right;\">\n",
       "      <th></th>\n",
       "      <th>values</th>\n",
       "    </tr>\n",
       "  </thead>\n",
       "  <tbody>\n",
       "    <tr>\n",
       "      <th>init</th>\n",
       "      <td>twg      397\n",
       "taw     3000\n",
       "twc      397\n",
       "summ   ...</td>\n",
       "    </tr>\n",
       "    <tr>\n",
       "      <th>hg</th>\n",
       "      <td>2187</td>\n",
       "    </tr>\n",
       "    <tr>\n",
       "      <th>k</th>\n",
       "      <td>167</td>\n",
       "    </tr>\n",
       "    <tr>\n",
       "      <th>thickness</th>\n",
       "      <td>0.00238125</td>\n",
       "    </tr>\n",
       "    <tr>\n",
       "      <th>hc</th>\n",
       "      <td>32369</td>\n",
       "    </tr>\n",
       "    <tr>\n",
       "      <th>q</th>\n",
       "      <td>4905759</td>\n",
       "    </tr>\n",
       "    <tr>\n",
       "      <th>t_0</th>\n",
       "      <td>0</td>\n",
       "    </tr>\n",
       "    <tr>\n",
       "      <th>t_end</th>\n",
       "      <td>200</td>\n",
       "    </tr>\n",
       "    <tr>\n",
       "      <th>mass</th>\n",
       "      <td>0.5</td>\n",
       "    </tr>\n",
       "    <tr>\n",
       "      <th>c_al</th>\n",
       "      <td>900</td>\n",
       "    </tr>\n",
       "    <tr>\n",
       "      <th>c_water</th>\n",
       "      <td>4180</td>\n",
       "    </tr>\n",
       "    <tr>\n",
       "      <th>dt</th>\n",
       "      <td>0.01</td>\n",
       "    </tr>\n",
       "    <tr>\n",
       "      <th>tco</th>\n",
       "      <td>363</td>\n",
       "    </tr>\n",
       "  </tbody>\n",
       "</table>\n",
       "</div>"
      ],
      "text/plain": [
       "init         twg      397\n",
       "taw     3000\n",
       "twc      397\n",
       "summ   ...\n",
       "hg                                                        2187\n",
       "k                                                          167\n",
       "thickness                                           0.00238125\n",
       "hc                                                       32369\n",
       "q                                                      4905759\n",
       "t_0                                                          0\n",
       "t_end                                                      200\n",
       "mass                                                       0.5\n",
       "c_al                                                       900\n",
       "c_water                                                   4180\n",
       "dt                                                        0.01\n",
       "tco                                                        363\n",
       "dtype: object"
      ]
     },
     "execution_count": 25,
     "metadata": {},
     "output_type": "execute_result"
    }
   ],
   "source": [
    "system = make_system(397, 397)"
   ]
  },
  {
   "cell_type": "code",
   "execution_count": 97,
   "metadata": {},
   "outputs": [
    {
     "data": {
      "text/plain": [
       "[<matplotlib.lines.Line2D at 0x1bbeff3f5f8>]"
      ]
     },
     "execution_count": 97,
     "metadata": {},
     "output_type": "execute_result"
    },
    {
     "data": {
      "image/png": "[encoded data removed]",
      "text/plain": [
       "<Figure size 432x288 with 1 Axes>"
      ]
     },
     "metadata": {},
     "output_type": "display_data"
    }
   ],
   "source": [
    "# Function of temperature with respect to time\n",
    "time = np.linspace(0, 5, 500)\n",
    "TawTemps = exp(5*time)/((1/3000)*exp(5*time)+1)\n",
    "plot(range(len(TawTemps)), TawTemps)"
   ]
  },
  {
   "cell_type": "code",
   "execution_count": 78,
   "metadata": {},
   "outputs": [],
   "source": [
    "def calculate_q(Twg, TawTemp):\n",
    "    q = system.hg * (TawTemp - Twg);\n",
    "    return q"
   ]
  },
  {
   "cell_type": "code",
   "execution_count": 79,
   "metadata": {},
   "outputs": [],
   "source": [
    "def calculate_deltaT(system, q):\n",
    "    deltaT = (q * system.dt)/(system.mass * system.c_al)\n",
    "    return deltaT"
   ]
  },
  {
   "cell_type": "code",
   "execution_count": 80,
   "metadata": {},
   "outputs": [],
   "source": [
    "def calculate_next_Twg(Twg, deltaT):\n",
    "    return abs(Twg + deltaT)\n",
    "    "
   ]
  },
  {
   "cell_type": "code",
   "execution_count": 81,
   "metadata": {},
   "outputs": [],
   "source": [
    "def calculate_twc(system, Twg, q):\n",
    "    twc = Twg - (q * system.thickness)/system.k\n",
    "    return twc"
   ]
  },
  {
   "cell_type": "code",
   "execution_count": 82,
   "metadata": {},
   "outputs": [],
   "source": [
    "def calculate_twc1(system, q):\n",
    "    twc1 = (q/system.hc) + system.tco \n",
    "    return twc1"
   ]
  },
  {
   "cell_type": "code",
   "execution_count": 83,
   "metadata": {},
   "outputs": [],
   "source": [
    "def calculate_twg1(system, twc1, q):\n",
    "    twg1 = ((q * system.thickness)/system.k) + twc1\n",
    "    return twg1"
   ]
  },
  {
   "cell_type": "code",
   "execution_count": 99,
   "metadata": {},
   "outputs": [],
   "source": [
    "def calculate_tco(system, Twc, q):\n",
    "    tco = (Twc - (q/system.hc))\n",
    "    return tco"
   ]
  },
  {
   "cell_type": "code",
   "execution_count": 100,
   "metadata": {},
   "outputs": [],
   "source": [
    "current_twg = system.init.twg\n",
    "twgs = []\n",
    "twcs = []\n",
    "for i in range(len(TawTemps)):\n",
    "    q = calculate_q(current_twg, TawTemps[i])\n",
    "    deltaT = calculate_deltaT(system, q)\n",
    "    \n",
    "    twc1 = calculate_twc1(system, q)\n",
    "    twg1 = calculate_twg1(system, twc1, q)\n",
    "    q1 = calculate_q(twg1, TawTemps[i])\n",
    "    \n",
    "    next_Twg = calculate_next_Twg(twg1, deltaT)\n",
    "    twg1 = next_Twg\n",
    "    twcs.append(twc1)\n",
    "    twgs.append(twg1)\n",
    "   \n",
    "\n",
    "    \n",
    "# Have value Tco, use that to calulate Twc1\n",
    "    "
   ]
  },
  {
   "cell_type": "code",
   "execution_count": 103,
   "metadata": {},
   "outputs": [
    {
     "data": {
      "image/png": "[encoded data removed]",
      "text/plain": [
       "<Figure size 432x288 with 1 Axes>"
      ]
     },
     "metadata": {},
     "output_type": "display_data"
    }
   ],
   "source": [
    "plot(range(len(twgs)), twgs, label='Gas-side Wall Temperature')\n",
    "plot(range(len(twcs)), twcs, label='Coolant-side Wall Temperature')\n",
    "plot(np.linspace(system.tco,system.tco,len(twgs)), label='Coolant Bulk Temperature')\n",
    "plot(range(len(TawTemps)), TawTemps, label='Adiabatic Wall Temperature')\n",
    "decorate(xlabel='Time (ms)',\n",
    "             ylabel='Temperature (K)')"
   ]
  },
  {
   "cell_type": "code",
   "execution_count": null,
   "metadata": {},
   "outputs": [],
   "source": []
  },
  {
   "cell_type": "code",
   "execution_count": null,
   "metadata": {},
   "outputs": [],
   "source": []
  }
 ],
 "metadata": {
  "kernelspec": {
   "display_name": "Python 3",
   "language": "python",
   "name": "python3"
  },
  "language_info": {
   "codemirror_mode": {
    "name": "ipython",
    "version": 3
   },
   "file_extension": ".py",
   "mimetype": "text/x-python",
   "name": "python",
   "nbconvert_exporter": "python",
   "pygments_lexer": "ipython3",
   "version": "3.6.6"
  }
 },
 "nbformat": 4,
 "nbformat_minor": 2
}
