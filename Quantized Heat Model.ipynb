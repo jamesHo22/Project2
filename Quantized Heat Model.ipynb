{
 "cells": [
  {
   "cell_type": "code",
   "execution_count": 17,
   "metadata": {},
   "outputs": [],
   "source": [
    "# Configure Jupyter so figures appear in the notebook\n",
    "%matplotlib inline\n",
    "\n",
    "# Configure Jupyter to display the assigned value after an assignment\n",
    "%config InteractiveShell.ast_node_interactivity='last_expr_or_assign'\n",
    "\n",
    "# import functions from the modsim.py module\n",
    "from modsim import *"
   ]
  },
  {
   "cell_type": "code",
   "execution_count": 309,
   "metadata": {},
   "outputs": [],
   "source": [
    "def make_system(twg, twc, tco):\n",
    "    \"\"\"\n",
    "    A function that returns a system object with a state called init\n",
    "    The current system\n",
    "    \n",
    "    twg = Hot gas side local wall temperature\n",
    "    twc = Coolant side local wall temperature\n",
    "    tco = Temperature of Coolant Liquid (water)\n",
    "    taw = Temperature of the hot combustion gases (K)\n",
    "    hg = hot gas side heat transfer co-effficient = 2956\n",
    "    k = thermal conductivity of Al 6061, W/(m*K)\n",
    "    thickness = thickness of Al 6061 wall (m)\n",
    "    hc = coolant side heat transfer co-efficient\n",
    "    t_0 = intitial time \n",
    "    t_end = final time\n",
    "    \n",
    "    \"\"\"\n",
    "    system = System(init = State(twg = twg, twc = twc, tco = tco),\n",
    "                    taw = 3000,\n",
    "                    hg = 2187,\n",
    "                    k = 167 ,\n",
    "                    thickness = .00238125,\n",
    "                    hc = 32369,\n",
    "                    q =  4905759, \n",
    "                    t_0 = 0,\n",
    "                    t_end = 1000)\n",
    "    return system"
   ]
  },
  {
   "cell_type": "code",
   "execution_count": 310,
   "metadata": {},
   "outputs": [],
   "source": [
    "def update_func(state,t,system):\n",
    "    \"\"\"Test update\"\"\"\n",
    "\n",
    "    unpack(system)\n",
    "    twg1, twc1, tco1 = state\n",
    "    \n",
    "    dtwg = hg*(taw - twg1)\n",
    "    #print(twg1)\n",
    "    dtwc = (k/thickness)*(twg1 - twc1)\n",
    "    dtco = hc*(twc1 - tco1)\n",
    "    \n",
    "    # Implement cooling equations. Cooling \n",
    "    \n",
    "    twg1 += dtwg * 0.00001\n",
    "    twc1 += (dtwc - dtco) * 0.00001\n",
    "    tco1 += dtco * 0.00001\n",
    "    \n",
    "    return State(twg = twg1, twc = twc1, tco = tco1)"
   ]
  },
  {
   "cell_type": "code",
   "execution_count": 311,
   "metadata": {},
   "outputs": [
    {
     "data": {
      "text/html": [
       "<div>\n",
       "<style scoped>\n",
       "    .dataframe tbody tr th:only-of-type {\n",
       "        vertical-align: middle;\n",
       "    }\n",
       "\n",
       "    .dataframe tbody tr th {\n",
       "        vertical-align: top;\n",
       "    }\n",
       "\n",
       "    .dataframe thead th {\n",
       "        text-align: right;\n",
       "    }\n",
       "</style>\n",
       "<table border=\"1\" class=\"dataframe\">\n",
       "  <thead>\n",
       "    <tr style=\"text-align: right;\">\n",
       "      <th></th>\n",
       "      <th>values</th>\n",
       "    </tr>\n",
       "  </thead>\n",
       "  <tbody>\n",
       "    <tr>\n",
       "      <th>twg</th>\n",
       "      <td>652.488000</td>\n",
       "    </tr>\n",
       "    <tr>\n",
       "      <th>twc</th>\n",
       "      <td>415.786934</td>\n",
       "    </tr>\n",
       "    <tr>\n",
       "      <th>tco</th>\n",
       "      <td>64.738000</td>\n",
       "    </tr>\n",
       "  </tbody>\n",
       "</table>\n",
       "</div>"
      ],
      "text/plain": [
       "twg    652.488000\n",
       "twc    415.786934\n",
       "tco     64.738000\n",
       "dtype: float64"
      ]
     },
     "execution_count": 311,
     "metadata": {},
     "output_type": "execute_result"
    }
   ],
   "source": [
    "update_func(system.init, 1, system)"
   ]
  },
  {
   "cell_type": "code",
   "execution_count": 312,
   "metadata": {},
   "outputs": [],
   "source": [
    "def run_simulation(system, update_func):\n",
    "    \"\"\"Runs a simulation of the system.\n",
    "        \n",
    "    system: System object\n",
    "    update_func: function that updates state\n",
    "    \n",
    "    returns: TimeFrame\n",
    "    \"\"\"\n",
    "    unpack(system)\n",
    "    \n",
    "    frame = TimeFrame(columns=init.index)\n",
    "    frame.row[t_0] = init\n",
    "    \n",
    "    for t in linrange(t_0, t_end):\n",
    "        frame.row[t+1] = update_func(frame.row[t], t, system)\n",
    "    frame.index / 100\n",
    "    return frame"
   ]
  },
  {
   "cell_type": "code",
   "execution_count": 313,
   "metadata": {},
   "outputs": [],
   "source": [
    "def plot_results(twg,twc):\n",
    "\n",
    "    plot(twg, '--', label='twg')\n",
    "    plot(twc, '-', label='twc')\n",
    "    decorate(xlabel='Time',\n",
    "             ylabel='Temperature')"
   ]
  },
  {
   "cell_type": "code",
   "execution_count": 315,
   "metadata": {},
   "outputs": [
    {
     "data": {
      "text/html": [
       "<div>\n",
       "<style scoped>\n",
       "    .dataframe tbody tr th:only-of-type {\n",
       "        vertical-align: middle;\n",
       "    }\n",
       "\n",
       "    .dataframe tbody tr th {\n",
       "        vertical-align: top;\n",
       "    }\n",
       "\n",
       "    .dataframe thead th {\n",
       "        text-align: right;\n",
       "    }\n",
       "</style>\n",
       "<table border=\"1\" class=\"dataframe\">\n",
       "  <thead>\n",
       "    <tr style=\"text-align: right;\">\n",
       "      <th></th>\n",
       "      <th>values</th>\n",
       "    </tr>\n",
       "  </thead>\n",
       "  <tbody>\n",
       "    <tr>\n",
       "      <th>init</th>\n",
       "      <td>twg    600\n",
       "twc    200\n",
       "tco      0\n",
       "dtype: int64</td>\n",
       "    </tr>\n",
       "    <tr>\n",
       "      <th>taw</th>\n",
       "      <td>3000</td>\n",
       "    </tr>\n",
       "    <tr>\n",
       "      <th>hg</th>\n",
       "      <td>2187</td>\n",
       "    </tr>\n",
       "    <tr>\n",
       "      <th>k</th>\n",
       "      <td>167</td>\n",
       "    </tr>\n",
       "    <tr>\n",
       "      <th>thickness</th>\n",
       "      <td>0.00238125</td>\n",
       "    </tr>\n",
       "    <tr>\n",
       "      <th>hc</th>\n",
       "      <td>32369</td>\n",
       "    </tr>\n",
       "    <tr>\n",
       "      <th>q</th>\n",
       "      <td>4905759</td>\n",
       "    </tr>\n",
       "    <tr>\n",
       "      <th>t_0</th>\n",
       "      <td>0</td>\n",
       "    </tr>\n",
       "    <tr>\n",
       "      <th>t_end</th>\n",
       "      <td>1000</td>\n",
       "    </tr>\n",
       "  </tbody>\n",
       "</table>\n",
       "</div>"
      ],
      "text/plain": [
       "init         twg    600\n",
       "twc    200\n",
       "tco      0\n",
       "dtype: int64\n",
       "taw                                                   3000\n",
       "hg                                                    2187\n",
       "k                                                      167\n",
       "thickness                                       0.00238125\n",
       "hc                                                   32369\n",
       "q                                                  4905759\n",
       "t_0                                                      0\n",
       "t_end                                                 1000\n",
       "dtype: object"
      ]
     },
     "execution_count": 315,
     "metadata": {},
     "output_type": "execute_result"
    }
   ],
   "source": [
    "system = make_system(600, 200, 0)"
   ]
  },
  {
   "cell_type": "code",
   "execution_count": 316,
   "metadata": {},
   "outputs": [
    {
     "data": {
      "image/png": "[encoded data removed]",
      "text/plain": [
       "<Figure size 432x288 with 1 Axes>"
      ]
     },
     "metadata": {},
     "output_type": "display_data"
    }
   ],
   "source": [
    "results = run_simulation(system, update_func)\n",
    "plot_results(results.twg,results.twc)\n"
   ]
  },
  {
   "cell_type": "code",
   "execution_count": null,
   "metadata": {},
   "outputs": [],
   "source": []
  },
  {
   "cell_type": "code",
   "execution_count": null,
   "metadata": {},
   "outputs": [],
   "source": []
  },
  {
   "cell_type": "code",
   "execution_count": null,
   "metadata": {},
   "outputs": [],
   "source": []
  },
  {
   "cell_type": "code",
   "execution_count": null,
   "metadata": {},
   "outputs": [],
   "source": []
  }
 ],
 "metadata": {
  "kernelspec": {
   "display_name": "Python 3",
   "language": "python",
   "name": "python3"
  },
  "language_info": {
   "codemirror_mode": {
    "name": "ipython",
    "version": 3
   },
   "file_extension": ".py",
   "mimetype": "text/x-python",
   "name": "python",
   "nbconvert_exporter": "python",
   "pygments_lexer": "ipython3",
   "version": "3.6.6"
  }
 },
 "nbformat": 4,
 "nbformat_minor": 2
}
